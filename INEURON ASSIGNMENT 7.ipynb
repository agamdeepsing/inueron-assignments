{
 "cells": [
  {
   "cell_type": "markdown",
   "id": "2bf4aa0a",
   "metadata": {},
   "source": [
    "# Ques 1"
   ]
  },
  {
   "cell_type": "markdown",
   "id": "ce7391e0",
   "metadata": {},
   "source": [
    "re.compile() is the feature responsible for generation of Regex objects."
   ]
  },
  {
   "cell_type": "markdown",
   "id": "612fbc36",
   "metadata": {},
   "source": [
    "# Ques 2"
   ]
  },
  {
   "cell_type": "markdown",
   "id": "e082d782",
   "metadata": {},
   "source": [
    "Raw strings are used (e.g. r\"\\n\") so that backslashes do not have to be escaped."
   ]
  },
  {
   "cell_type": "markdown",
   "id": "5ed8d4e2",
   "metadata": {},
   "source": [
    "# Ques 3"
   ]
  },
  {
   "cell_type": "markdown",
   "id": "0ec506ae",
   "metadata": {},
   "source": [
    "The return value of re.search(pattern,string) method is a match object,if the pattern is observed in the string else it returns None."
   ]
  },
  {
   "cell_type": "markdown",
   "id": "740f4d18",
   "metadata": {},
   "source": [
    "# Ques 4"
   ]
  },
  {
   "cell_type": "markdown",
   "id": "68c18545",
   "metadata": {},
   "source": [
    "For Matched items group() methods returns actual strings that match the pattern"
   ]
  },
  {
   "cell_type": "markdown",
   "id": "11aa173a",
   "metadata": {},
   "source": [
    "# Ques 5"
   ]
  },
  {
   "cell_type": "markdown",
   "id": "487099c4",
   "metadata": {},
   "source": [
    "In the Regex r'(\\d\\d\\d)-(\\d\\d\\d-\\d\\d\\d\\d)' the zero group covers the entire pattern match where as the first group cover (\\d\\d\\d) and the second group cover (\\d\\d\\d-\\d\\d\\d\\d)"
   ]
  },
  {
   "cell_type": "markdown",
   "id": "036f8998",
   "metadata": {},
   "source": [
    "# Ques 6"
   ]
  },
  {
   "cell_type": "markdown",
   "id": "3d5a64c7",
   "metadata": {},
   "source": [
    " The \\. \\( and \\) escape characters in the raw string passed to re.compile() will match actual parenthesis characters."
   ]
  },
  {
   "cell_type": "markdown",
   "id": "f6cc3e73",
   "metadata": {},
   "source": [
    "# Ques 7"
   ]
  },
  {
   "cell_type": "markdown",
   "id": "5f45ba1b",
   "metadata": {},
   "source": [
    " If the regex pattern has no groups, a list of strings matched is returned. if the regex pattern has groups, a list of tuple of strings is returned."
   ]
  },
  {
   "cell_type": "markdown",
   "id": "13d5c71d",
   "metadata": {},
   "source": [
    "# Ques 8"
   ]
  },
  {
   "cell_type": "markdown",
   "id": "d7fda5b6",
   "metadata": {},
   "source": [
    "In Standard Expressions | means OR operator."
   ]
  },
  {
   "cell_type": "markdown",
   "id": "e7225513",
   "metadata": {},
   "source": [
    "# Ques 9"
   ]
  },
  {
   "cell_type": "markdown",
   "id": "800f91b5",
   "metadata": {},
   "source": [
    "in regular Expressions, ? characters represents zero or one match of the preceding group."
   ]
  },
  {
   "cell_type": "markdown",
   "id": "96baa3c6",
   "metadata": {},
   "source": [
    "# Ques 10"
   ]
  },
  {
   "cell_type": "markdown",
   "id": "1065af5f",
   "metadata": {},
   "source": [
    "In Regular Expressions, * Represents Zero ore more occurances of the preceeding group, whereas + represents one or more occurances of the preceeding group."
   ]
  },
  {
   "cell_type": "markdown",
   "id": "a933c270",
   "metadata": {},
   "source": [
    "# Ques 11"
   ]
  },
  {
   "cell_type": "markdown",
   "id": "1db6a6e1",
   "metadata": {},
   "source": [
    "{4} means that its preceeding group should repeat 4 times. where as {4,5} means that its preceeding group should repeat mininum 4 times and maximum 5 times inclusively"
   ]
  },
  {
   "cell_type": "markdown",
   "id": "be85e6a2",
   "metadata": {},
   "source": [
    "# Ques 12"
   ]
  },
  {
   "cell_type": "markdown",
   "id": "5876b12d",
   "metadata": {},
   "source": [
    "\\w – Matches a word character\n",
    "\\d – Matches digit character\n",
    "\\s – Matches whitespace character "
   ]
  },
  {
   "cell_type": "markdown",
   "id": "068c946d",
   "metadata": {},
   "source": [
    "# Ques 13"
   ]
  },
  {
   "cell_type": "markdown",
   "id": "6f116080",
   "metadata": {},
   "source": [
    "\\W – Matches any non-alphanumeric character \n",
    "\\D – Matches any non-digit character\n",
    "\\S – Matches any non-whitespace character"
   ]
  },
  {
   "cell_type": "markdown",
   "id": "e8edc2c7",
   "metadata": {},
   "source": [
    "# Ques 14"
   ]
  },
  {
   "cell_type": "markdown",
   "id": "286a8374",
   "metadata": {},
   "source": [
    ".* is a Greedy mode, which returns the longest string that meets the condition. Whereas .*? is a non greedy mode which returns the shortest string that meets the required condition."
   ]
  },
  {
   "cell_type": "markdown",
   "id": "3f445bf6",
   "metadata": {},
   "source": [
    "# Ques 15"
   ]
  },
  {
   "cell_type": "markdown",
   "id": "a706979a",
   "metadata": {},
   "source": [
    "The Synatax is Either [a-z0-9] or [0-9a-z]"
   ]
  },
  {
   "cell_type": "markdown",
   "id": "450b9338",
   "metadata": {},
   "source": [
    "# Ques 16"
   ]
  },
  {
   "cell_type": "markdown",
   "id": "ca414ef8",
   "metadata": {},
   "source": [
    " We can pass re.IGNORECASE as a flag to make a normal expression case insensitive."
   ]
  },
  {
   "cell_type": "markdown",
   "id": "bb04a1ca",
   "metadata": {},
   "source": [
    "# Ques 17"
   ]
  },
  {
   "cell_type": "markdown",
   "id": "ddb7992c",
   "metadata": {},
   "source": [
    "Dot . character matches everything in the input except the newline character.By passing re.DOTALL as a flag to re.compile(), you can make the dot character match all the characters, including the newline character."
   ]
  },
  {
   "cell_type": "markdown",
   "id": "5d01fd51",
   "metadata": {},
   "source": [
    "# Ques 18"
   ]
  },
  {
   "cell_type": "markdown",
   "id": "4ea6456b",
   "metadata": {},
   "source": [
    "The Ouput will be 'X drummers, X pipers, five rings, X hen'"
   ]
  },
  {
   "cell_type": "markdown",
   "id": "c867730c",
   "metadata": {},
   "source": [
    "# Ques 19"
   ]
  },
  {
   "cell_type": "markdown",
   "id": "6874ffcd",
   "metadata": {},
   "source": [
    "re.VERBOSE will allow to add whitespace and comments to string passed to re.compile()."
   ]
  },
  {
   "cell_type": "markdown",
   "id": "9cca21c2",
   "metadata": {},
   "source": [
    "# Ques 20"
   ]
  },
  {
   "cell_type": "code",
   "execution_count": 1,
   "id": "d1c28131",
   "metadata": {},
   "outputs": [
    {
     "name": "stdout",
     "output_type": "stream",
     "text": [
      "Output: 42 -> <re.Match object; span=(0, 2), match='42'>\n",
      "Output: 1,234 -> <re.Match object; span=(0, 5), match='1,234'>\n",
      "Output: 6,368,745 -> <re.Match object; span=(0, 9), match='6,368,745'>\n",
      "Output: 12,34,567 -> None\n",
      "Output: 1234 -> None\n"
     ]
    }
   ],
   "source": [
    "import re\n",
    "pattern = r'^\\d{1,3}(,\\d{3})*$'\n",
    "pagex = re.compile(pattern)\n",
    "for ele in ['42','1,234', '6,368,745','12,34,567','1234']:\n",
    "    print('Output:',ele, '->', pagex.search(ele))"
   ]
  },
  {
   "cell_type": "markdown",
   "id": "6402e708",
   "metadata": {},
   "source": [
    "# Ques 21"
   ]
  },
  {
   "cell_type": "code",
   "execution_count": 2,
   "id": "16600147",
   "metadata": {},
   "outputs": [
    {
     "name": "stdout",
     "output_type": "stream",
     "text": [
      "Output:  Haruto Watanabe -> <re.Match object; span=(0, 15), match='Haruto Watanabe'>\n",
      "Output:  Alice Watanabe -> <re.Match object; span=(0, 14), match='Alice Watanabe'>\n",
      "Output:  RoboCop Watanabe -> <re.Match object; span=(4, 16), match='Cop Watanabe'>\n",
      "Output:  haruto Watanabe -> None\n",
      "Output:  Mr. Watanabe -> None\n",
      "Output:  Watanabe -> None\n",
      "Output:  Haruto watanabe -> None\n"
     ]
    }
   ],
   "source": [
    "import re\n",
    "pattern = r'[A-Z]{1}[a-z]*\\sWatanabe'\n",
    "namex = re.compile(pattern)\n",
    "for name in ['Haruto Watanabe','Alice Watanabe','RoboCop Watanabe','haruto Watanabe','Mr. Watanabe','Watanabe','Haruto watanabe']:\n",
    "    print('Output: ',name,'->',namex.search(name))"
   ]
  },
  {
   "cell_type": "markdown",
   "id": "20423a5e",
   "metadata": {},
   "source": [
    "# Ques 22"
   ]
  },
  {
   "cell_type": "markdown",
   "id": "27676745",
   "metadata": {},
   "source": [
    "pattern = r'(Alice|Bob|Carol)\\s(eats|pets|throws)\\s(apples|cats|baseballs)\\.'"
   ]
  },
  {
   "cell_type": "code",
   "execution_count": 3,
   "id": "0377b77f",
   "metadata": {},
   "outputs": [
    {
     "name": "stdout",
     "output_type": "stream",
     "text": [
      "Output:  Alice eats apples. -> <re.Match object; span=(0, 18), match='Alice eats apples.'>\n",
      "Output:  Bob pets cats. -> <re.Match object; span=(0, 14), match='Bob pets cats.'>\n",
      "Output:  Carol throws baseballs. -> <re.Match object; span=(0, 23), match='Carol throws baseballs.'>\n",
      "Output:  Alice throws Apples. -> <re.Match object; span=(0, 20), match='Alice throws Apples.'>\n",
      "Output:  BOB EATS CATS. -> <re.Match object; span=(0, 14), match='BOB EATS CATS.'>\n",
      "Output:  RoboCop eats apples. -> None\n",
      "Output:  ALICE THROWS FOOTBALLS. -> None\n",
      "Output:  Carol eats 7 cats. -> None\n"
     ]
    }
   ],
   "source": [
    "import re\n",
    "pattern = r'(Alice|Bob|Carol)\\s(eats|pets|throws)\\s(apples|cats|baseballs)\\.'\n",
    "casex = re.compile(pattern,re.IGNORECASE)\n",
    "for ele in ['Alice eats apples.','Bob pets cats.','Carol throws baseballs.','Alice throws Apples.','BOB EATS CATS.','RoboCop eats apples.'\n",
    ",'ALICE THROWS FOOTBALLS.','Carol eats 7 cats.']:\n",
    "    print('Output: ',ele,'->',casex.search(ele))"
   ]
  }
 ],
 "metadata": {
  "kernelspec": {
   "display_name": "Python 3 (ipykernel)",
   "language": "python",
   "name": "python3"
  },
  "language_info": {
   "codemirror_mode": {
    "name": "ipython",
    "version": 3
   },
   "file_extension": ".py",
   "mimetype": "text/x-python",
   "name": "python",
   "nbconvert_exporter": "python",
   "pygments_lexer": "ipython3",
   "version": "3.10.9"
  }
 },
 "nbformat": 4,
 "nbformat_minor": 5
}
