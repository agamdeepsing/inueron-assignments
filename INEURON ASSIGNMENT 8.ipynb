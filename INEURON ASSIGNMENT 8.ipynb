{
 "cells": [
  {
   "cell_type": "markdown",
   "id": "3c214312",
   "metadata": {},
   "source": [
    "# Ques 1"
   ]
  },
  {
   "cell_type": "code",
   "execution_count": null,
   "id": "0dcbacc4",
   "metadata": {},
   "outputs": [],
   "source": [
    "No, PyInputPlus is not a part of Python Standard Library"
   ]
  },
  {
   "cell_type": "markdown",
   "id": "cbc7f0b0",
   "metadata": {},
   "source": [
    "# Ques 2"
   ]
  },
  {
   "cell_type": "code",
   "execution_count": null,
   "id": "a1e5e616",
   "metadata": {},
   "outputs": [],
   "source": [
    "so that you can enter a shorter name when calling the module's functions."
   ]
  },
  {
   "cell_type": "markdown",
   "id": "25ff327b",
   "metadata": {},
   "source": [
    "# Ques 3"
   ]
  },
  {
   "cell_type": "code",
   "execution_count": null,
   "id": "e82ccc7d",
   "metadata": {},
   "outputs": [],
   "source": [
    "inputInt() function Accepts an integer value.\n",
    "\n",
    "Whereas inputFloat() function Accepts a floating-point numeric value"
   ]
  },
  {
   "cell_type": "markdown",
   "id": "c6ec53f9",
   "metadata": {},
   "source": [
    "# Ques 4"
   ]
  },
  {
   "cell_type": "markdown",
   "id": "6770ec9e",
   "metadata": {},
   "source": [
    "PyInputPlus module provides a function called as inputInt() which only returns only integer values.for entering a whole number between 0 and 99 use min and max parameter."
   ]
  },
  {
   "cell_type": "markdown",
   "id": "57f0a679",
   "metadata": {},
   "source": [
    "# Ques 5"
   ]
  },
  {
   "cell_type": "markdown",
   "id": "73d8b06c",
   "metadata": {},
   "source": [
    "we can use allowRegexes and blockRegexes keyword arguments to take list of regular expression to determine what the pyinputplus will reject or accept valid input."
   ]
  },
  {
   "cell_type": "markdown",
   "id": "88bcc1dc",
   "metadata": {},
   "source": [
    "# Ques 6"
   ]
  },
  {
   "cell_type": "markdown",
   "id": "0c8b158c",
   "metadata": {},
   "source": [
    "first of all it throws validation exception when you try to input the blank statement but if you want to then set parameter blank = True and secondly RetryLimitException is occured when we reached the max limit. to avoid this use deafault parameter when max limit is reached it gives you the default values."
   ]
  }
 ],
 "metadata": {
  "kernelspec": {
   "display_name": "Python 3 (ipykernel)",
   "language": "python",
   "name": "python3"
  },
  "language_info": {
   "codemirror_mode": {
    "name": "ipython",
    "version": 3
   },
   "file_extension": ".py",
   "mimetype": "text/x-python",
   "name": "python",
   "nbconvert_exporter": "python",
   "pygments_lexer": "ipython3",
   "version": "3.10.9"
  }
 },
 "nbformat": 4,
 "nbformat_minor": 5
}
