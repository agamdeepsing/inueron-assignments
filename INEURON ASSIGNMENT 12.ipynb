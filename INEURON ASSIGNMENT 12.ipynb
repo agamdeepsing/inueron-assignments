{
 "cells": [
  {
   "cell_type": "markdown",
   "id": "74c4289a",
   "metadata": {},
   "source": [
    "# Ques 1"
   ]
  },
  {
   "cell_type": "markdown",
   "id": "4f5b9416",
   "metadata": {},
   "source": [
    "PdfFileReader() should be opened as rb -> read binary and PdfFileWriter() opened as wb -> write binary."
   ]
  },
  {
   "cell_type": "markdown",
   "id": "f2077bc3",
   "metadata": {},
   "source": [
    "# Ques 2"
   ]
  },
  {
   "cell_type": "raw",
   "id": "0286d4d5",
   "metadata": {},
   "source": [
    "for page in pdf_reader.getNumPages():\n",
    "    pdf_reader.getPage(page)"
   ]
  },
  {
   "cell_type": "markdown",
   "id": "ea630cbe",
   "metadata": {},
   "source": [
    "# Ques 3"
   ]
  },
  {
   "cell_type": "raw",
   "id": "51291af1",
   "metadata": {},
   "source": [
    "getNumPages()"
   ]
  },
  {
   "cell_type": "markdown",
   "id": "f5550b7f",
   "metadata": {},
   "source": [
    "# Ques 4"
   ]
  },
  {
   "cell_type": "raw",
   "id": "d84c129e",
   "metadata": {},
   "source": [
    "if pdf is encrypted use the decrypt() provided by PdfFileReader class, then try to read the contents/pages of the pdf."
   ]
  },
  {
   "cell_type": "markdown",
   "id": "ca94c368",
   "metadata": {},
   "source": [
    "# Ques 5"
   ]
  },
  {
   "cell_type": "raw",
   "id": "df5af7dc",
   "metadata": {},
   "source": [
    "rotateClockWise(),rotateCounterClockWise()"
   ]
  },
  {
   "cell_type": "markdown",
   "id": "2a848c63",
   "metadata": {},
   "source": [
    "# Ques 6"
   ]
  },
  {
   "cell_type": "markdown",
   "id": "97eb30e4",
   "metadata": {},
   "source": [
    "The structure of a document is represented by three different data types in python-Docx.A Document object represents the entire document. The Document object contains a list of Paragraph objects for the paragraphs in the document. Each of these Paragraph objects contains a list of one or more Run objects."
   ]
  },
  {
   "cell_type": "markdown",
   "id": "437588bc",
   "metadata": {},
   "source": [
    "# Ques 7"
   ]
  },
  {
   "cell_type": "raw",
   "id": "a8ad3092",
   "metadata": {},
   "source": [
    "from docx import Document\n",
    "doc = Document(\"file.docx\") # Path of Docx file\n",
    "print(doc.paragraphs) # Prints list of Paragraph objects for a Document\n",
    "for paragraph in doc.paragraphs:\n",
    "    print(paragraph.text) # Prints the text in the paragraph"
   ]
  },
  {
   "cell_type": "markdown",
   "id": "707fff34",
   "metadata": {},
   "source": [
    "# Ques 8"
   ]
  },
  {
   "cell_type": "raw",
   "id": "b1388d2a",
   "metadata": {},
   "source": [
    "Run object has bold, underline, italic, strike, and outline variables"
   ]
  },
  {
   "cell_type": "markdown",
   "id": "721985de",
   "metadata": {},
   "source": [
    "# Ques 9"
   ]
  },
  {
   "cell_type": "code",
   "execution_count": 2,
   "id": "72fd609e",
   "metadata": {},
   "outputs": [],
   "source": [
    "bold = True  # Style == Bold\n",
    "bold = False # Style != Bold\n",
    "bold = None # Style Not Applicable"
   ]
  },
  {
   "cell_type": "markdown",
   "id": "32d80755",
   "metadata": {},
   "source": [
    "# Ques 10"
   ]
  },
  {
   "cell_type": "raw",
   "id": "7391518e",
   "metadata": {},
   "source": [
    "from docx import Document\n",
    "doc = Document()\n",
    "doc.add_paragraph('Ineuron')\n",
    "doc.save('newdocument.docx')"
   ]
  },
  {
   "cell_type": "markdown",
   "id": "ca0fc59a",
   "metadata": {},
   "source": [
    "# Ques 11"
   ]
  },
  {
   "cell_type": "raw",
   "id": "71932c9d",
   "metadata": {},
   "source": [
    "from docx import Document\n",
    "doc = Document()\n",
    "doc.add_paragraph('Hello, there!')\n",
    "doc.save('hello.docx')"
   ]
  },
  {
   "cell_type": "markdown",
   "id": "dafd5097",
   "metadata": {},
   "source": [
    "# Ques 12"
   ]
  },
  {
   "cell_type": "raw",
   "id": "c6a9b668",
   "metadata": {},
   "source": [
    "the levels of headings in Word documents can be specifies using the level under add_heading method."
   ]
  }
 ],
 "metadata": {
  "kernelspec": {
   "display_name": "Python 3 (ipykernel)",
   "language": "python",
   "name": "python3"
  },
  "language_info": {
   "codemirror_mode": {
    "name": "ipython",
    "version": 3
   },
   "file_extension": ".py",
   "mimetype": "text/x-python",
   "name": "python",
   "nbconvert_exporter": "python",
   "pygments_lexer": "ipython3",
   "version": "3.10.9"
  }
 },
 "nbformat": 4,
 "nbformat_minor": 5
}
