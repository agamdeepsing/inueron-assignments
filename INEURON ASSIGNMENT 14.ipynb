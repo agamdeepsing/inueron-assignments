{
 "cells": [
  {
   "cell_type": "markdown",
   "id": "d2baf516",
   "metadata": {},
   "source": [
    "## Ques 1"
   ]
  },
  {
   "cell_type": "markdown",
   "id": "79f173dd",
   "metadata": {},
   "source": [
    "RGBA  stands for four channels red, green, blue, alpha where alpha stands for the opacity"
   ]
  },
  {
   "cell_type": "markdown",
   "id": "d448a0f4",
   "metadata": {},
   "source": [
    "## Ques 2"
   ]
  },
  {
   "cell_type": "markdown",
   "id": "ce432bbe",
   "metadata": {},
   "source": [
    "ImageColor.getcolor() gives rgba value of any image."
   ]
  },
  {
   "cell_type": "markdown",
   "id": "ca87c329",
   "metadata": {},
   "source": [
    "## Ques 3"
   ]
  },
  {
   "cell_type": "markdown",
   "id": "15475eea",
   "metadata": {},
   "source": [
    "tuple value of four integer x coordinate, y coordinate , height and the width."
   ]
  },
  {
   "cell_type": "markdown",
   "id": "25409e47",
   "metadata": {},
   "source": [
    "## Ques 4"
   ]
  },
  {
   "cell_type": "code",
   "execution_count": 3,
   "id": "535b94e7",
   "metadata": {},
   "outputs": [
    {
     "name": "stdout",
     "output_type": "stream",
     "text": [
      "Width, Height -> (1067, 1600)\n",
      "Width, Height -> 1067,1600\n",
      "Width, Height -> 1067,1600\n"
     ]
    }
   ],
   "source": [
    "from PIL import Image\n",
    "pic = Image.open('Agam.jpg')\n",
    "print(f'Width, Height -> {pic.size}') \n",
    "print(f'Width, Height -> {pic.width},{pic.height}') \n",
    "width,height = pic.size\n",
    "print(f'Width, Height -> {width},{height}')"
   ]
  },
  {
   "cell_type": "markdown",
   "id": "7de48f9c",
   "metadata": {},
   "source": [
    "## Ques 5"
   ]
  },
  {
   "cell_type": "code",
   "execution_count": 4,
   "id": "1fa00b1a",
   "metadata": {},
   "outputs": [],
   "source": [
    "from PIL import Image\n",
    "img = Image.open('Agam.jpg')\n",
    "new_img = img.crop((0,50,50,50))"
   ]
  },
  {
   "cell_type": "markdown",
   "id": "98ef2d9f",
   "metadata": {},
   "source": [
    "## Ques 6"
   ]
  },
  {
   "cell_type": "code",
   "execution_count": 5,
   "id": "6924ac5c",
   "metadata": {},
   "outputs": [],
   "source": [
    "from PIL import Image\n",
    "pic = Image.open('Agam.jpg')\n",
    "pic.save('pic.jpg')"
   ]
  },
  {
   "cell_type": "markdown",
   "id": "fb82d2bf",
   "metadata": {},
   "source": [
    "## Ques 7"
   ]
  },
  {
   "cell_type": "markdown",
   "id": "573b9136",
   "metadata": {},
   "source": [
    "Pillows ImageDraw() module contains Shape drawing methods."
   ]
  },
  {
   "cell_type": "markdown",
   "id": "d33100c3",
   "metadata": {},
   "source": [
    "## Ques 8"
   ]
  },
  {
   "cell_type": "code",
   "execution_count": null,
   "id": "45517b18",
   "metadata": {},
   "outputs": [],
   "source": []
  }
 ],
 "metadata": {
  "kernelspec": {
   "display_name": "Python 3 (ipykernel)",
   "language": "python",
   "name": "python3"
  },
  "language_info": {
   "codemirror_mode": {
    "name": "ipython",
    "version": 3
   },
   "file_extension": ".py",
   "mimetype": "text/x-python",
   "name": "python",
   "nbconvert_exporter": "python",
   "pygments_lexer": "ipython3",
   "version": "3.10.9"
  }
 },
 "nbformat": 4,
 "nbformat_minor": 5
}
