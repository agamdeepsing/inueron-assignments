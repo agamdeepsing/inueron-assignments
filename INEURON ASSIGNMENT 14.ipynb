{
 "cells": [
  {
   "cell_type": "markdown",
   "id": "2dc91a2d",
   "metadata": {},
   "source": [
    "## Ques 1"
   ]
  },
  {
   "cell_type": "markdown",
   "id": "c233468d",
   "metadata": {},
   "source": [
    "RGBA  stands for four channels red, green, blue, alpha where alpha stands for the opacity"
   ]
  },
  {
   "cell_type": "markdown",
   "id": "5355af5d",
   "metadata": {},
   "source": [
    "## Ques 2"
   ]
  },
  {
   "cell_type": "markdown",
   "id": "33460340",
   "metadata": {},
   "source": [
    "ImageColor.getcolor() gives rgba value of any image."
   ]
  },
  {
   "cell_type": "markdown",
   "id": "f16c9f65",
   "metadata": {},
   "source": [
    "## Ques 3"
   ]
  },
  {
   "cell_type": "markdown",
   "id": "a8b61d81",
   "metadata": {},
   "source": [
    "tuple value of four integer x coordinate, y coordinate , height and the width."
   ]
  },
  {
   "cell_type": "markdown",
   "id": "23b1da7b",
   "metadata": {},
   "source": [
    "## Ques 4"
   ]
  },
  {
   "cell_type": "code",
   "execution_count": 3,
   "id": "3d7a5ef9",
   "metadata": {},
   "outputs": [
    {
     "name": "stdout",
     "output_type": "stream",
     "text": [
      "Width, Height -> (1067, 1600)\n",
      "Width, Height -> 1067,1600\n",
      "Width, Height -> 1067,1600\n"
     ]
    }
   ],
   "source": [
    "from PIL import Image\n",
    "pic = Image.open('Agam.jpg')\n",
    "print(f'Width, Height -> {pic.size}') \n",
    "print(f'Width, Height -> {pic.width},{pic.height}') \n",
    "width,height = pic.size\n",
    "print(f'Width, Height -> {width},{height}')"
   ]
  },
  {
   "cell_type": "markdown",
   "id": "ec097d54",
   "metadata": {},
   "source": [
    "## Ques 5"
   ]
  },
  {
   "cell_type": "code",
   "execution_count": 4,
   "id": "10985e7a",
   "metadata": {},
   "outputs": [],
   "source": [
    "from PIL import Image\n",
    "img = Image.open('Agam.jpg')\n",
    "new_img = img.crop((0,50,50,50))"
   ]
  },
  {
   "cell_type": "markdown",
   "id": "1ca7fd07",
   "metadata": {},
   "source": [
    "## Ques 6"
   ]
  },
  {
   "cell_type": "code",
   "execution_count": 5,
   "id": "d86e03ae",
   "metadata": {},
   "outputs": [],
   "source": [
    "from PIL import Image\n",
    "pic = Image.open('Agam.jpg')\n",
    "pic.save('pic.jpg')"
   ]
  },
  {
   "cell_type": "markdown",
   "id": "fe0992ae",
   "metadata": {},
   "source": [
    "## Ques 7"
   ]
  },
  {
   "cell_type": "markdown",
   "id": "f1ccda08",
   "metadata": {},
   "source": [
    "Pillows ImageDraw() module contains Shape drawing methods."
   ]
  },
  {
   "cell_type": "markdown",
   "id": "bc2c2968",
   "metadata": {},
   "source": [
    "## Ques 8"
   ]
  },
  {
   "cell_type": "markdown",
   "id": "c803464f",
   "metadata": {},
   "source": [
    "point(), line(), or rectangle(). we get this king of function by ImageDraw.Draw() function."
   ]
  }
 ],
 "metadata": {
  "kernelspec": {
   "display_name": "Python 3 (ipykernel)",
   "language": "python",
   "name": "python3"
  },
  "language_info": {
   "codemirror_mode": {
    "name": "ipython",
    "version": 3
   },
   "file_extension": ".py",
   "mimetype": "text/x-python",
   "name": "python",
   "nbconvert_exporter": "python",
   "pygments_lexer": "ipython3",
   "version": "3.10.9"
  }
 },
 "nbformat": 4,
 "nbformat_minor": 5
}
