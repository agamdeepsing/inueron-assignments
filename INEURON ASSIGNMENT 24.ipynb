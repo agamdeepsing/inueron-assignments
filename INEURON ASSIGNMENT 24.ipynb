{
 "cells": [
  {
   "cell_type": "markdown",
   "metadata": {},
   "source": [
    "# ques 1"
   ]
  },
  {
   "cell_type": "markdown",
   "metadata": {},
   "source": [
    "def statement is used to define function,it does not return anything until unless we call return function.\n",
    "\n",
    "whereas lambda function does return an object and there is no return keyword for lambda function. "
   ]
  },
  {
   "cell_type": "markdown",
   "metadata": {},
   "source": [
    "# ques 2"
   ]
  },
  {
   "cell_type": "markdown",
   "metadata": {},
   "source": [
    "by using lambda function we can write our code in a single line and save time"
   ]
  },
  {
   "cell_type": "markdown",
   "metadata": {},
   "source": [
    "# ques 3"
   ]
  },
  {
   "cell_type": "markdown",
   "metadata": {},
   "source": [
    "map function iterates throough the items available in the function and executes it.\n",
    "\n",
    "filter function is same as map function it iterates through the function and creates a new list and satisfies the given condition.\n",
    "\n",
    "reduce function means it reduces all the elements and return them in a single value."
   ]
  },
  {
   "cell_type": "markdown",
   "metadata": {},
   "source": [
    "# ques 4"
   ]
  },
  {
   "cell_type": "markdown",
   "metadata": {},
   "source": [
    "functions annotations allows to add arbitary to function parameter and return value.\n",
    "\n",
    "it provide ways of associating parts of function with expression at a compile time."
   ]
  },
  {
   "cell_type": "markdown",
   "metadata": {},
   "source": [
    "# ques 5"
   ]
  },
  {
   "cell_type": "markdown",
   "metadata": {},
   "source": [
    "recursive is function that calls itself direcly or indirectly, and is simple or elaborate. it is used to solve task in simple ways"
   ]
  },
  {
   "cell_type": "markdown",
   "metadata": {},
   "source": [
    "# ques 6"
   ]
  },
  {
   "cell_type": "markdown",
   "metadata": {},
   "source": [
    "Use proper identation\n",
    "\n",
    "use of commas\n",
    "\n",
    "try to give name to variables\n",
    "\n",
    "name classes and functions\n",
    "\n",
    "use spaces after commas"
   ]
  },
  {
   "cell_type": "markdown",
   "metadata": {},
   "source": [
    "  #  ques 7"
   ]
  },
  {
   "cell_type": "markdown",
   "metadata": {},
   "source": [
    "returning directly, print statement and returning as object of a class\n",
    "\n",
    "\n"
   ]
  },
  {
   "cell_type": "code",
   "execution_count": null,
   "metadata": {},
   "outputs": [],
   "source": []
  }
 ],
 "metadata": {
  "kernelspec": {
   "display_name": "Python 3",
   "language": "python",
   "name": "python3"
  },
  "language_info": {
   "codemirror_mode": {
    "name": "ipython",
    "version": 3
   },
   "file_extension": ".py",
   "mimetype": "text/x-python",
   "name": "python",
   "nbconvert_exporter": "python",
   "pygments_lexer": "ipython3",
   "version": "3.8.5"
  }
 },
 "nbformat": 4,
 "nbformat_minor": 4
}
