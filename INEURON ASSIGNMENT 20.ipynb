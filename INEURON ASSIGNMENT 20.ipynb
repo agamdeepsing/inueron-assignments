{
 "cells": [
  {
   "cell_type": "markdown",
   "id": "5129944d",
   "metadata": {},
   "source": [
    "## Ques 1"
   ]
  },
  {
   "cell_type": "code",
   "execution_count": 3,
   "id": "9f37aa2b",
   "metadata": {},
   "outputs": [
    {
     "name": "stdout",
     "output_type": "stream",
     "text": [
      "This is a test of the emergency text system,\n"
     ]
    }
   ],
   "source": [
    "test1 = \"This is a test of the emergency text system,\"\n",
    "print(test1)\n",
    "with open('test.txt','w') as file:\n",
    "    file.write(test1)\n",
    "    file.close()"
   ]
  },
  {
   "cell_type": "markdown",
   "id": "c60da7a4",
   "metadata": {},
   "source": [
    "## Ques2"
   ]
  },
  {
   "cell_type": "code",
   "execution_count": 4,
   "id": "3b6f3bd9",
   "metadata": {},
   "outputs": [
    {
     "name": "stdout",
     "output_type": "stream",
     "text": [
      "This is a test of the emergency text system,\n",
      "True\n"
     ]
    }
   ],
   "source": [
    "with open('test.txt', 'r') as file:\n",
    "    test2 = file.read()\n",
    "    \n",
    "print(test2)\n",
    "print(test1==test2)"
   ]
  },
  {
   "cell_type": "markdown",
   "id": "c836ab77",
   "metadata": {},
   "source": [
    "there is no difference"
   ]
  },
  {
   "cell_type": "markdown",
   "id": "cb1ff72a",
   "metadata": {},
   "source": [
    "## Ques 3"
   ]
  },
  {
   "cell_type": "code",
   "execution_count": 6,
   "id": "cab35833",
   "metadata": {},
   "outputs": [],
   "source": [
    "data = ''' title, author, year\n",
    "The Weirdstone of Brisingamen,Alan Garner,1960\n",
    "Perdido Street Station,China Miéville,2000\n",
    "Thud!,Terry Pratchett,2005\n",
    "The Spellman Files,Lisa Lutz,2007\n",
    "Small Gods,Terry Pratchett,1992'''\n",
    "\n",
    "with open('books.csv','w') as file:\n",
    "    file.write(data)"
   ]
  },
  {
   "cell_type": "markdown",
   "id": "dfbc9b71",
   "metadata": {},
   "source": [
    "## Ques 4"
   ]
  },
  {
   "cell_type": "code",
   "execution_count": null,
   "id": "b1b8d3d1",
   "metadata": {},
   "outputs": [],
   "source": [
    "import sqlite3\n",
    "db = sqlite3.connect('books.db')\n",
    "cursor = db.cursor()\n",
    "cursor.execute(\"CREATE TABLE books (title text, author text, year int)\")\n",
    "db.commit()\n",
    "db.close()"
   ]
  },
  {
   "cell_type": "markdown",
   "id": "40fbe025",
   "metadata": {},
   "source": [
    "## Ques 5"
   ]
  },
  {
   "cell_type": "code",
   "execution_count": null,
   "id": "09e4057c",
   "metadata": {},
   "outputs": [],
   "source": [
    "import sqlite3\n",
    "import csv\n",
    "conn = sqlite3.connect(\"books.db\")\n",
    "cursor = conn.cursor()\n",
    "with open(\"books.csv\",\"r\") as file:\n",
    "    books = csv.DictReader(file)\n",
    "    for book in books:\n",
    "        cursor.execute(\"INSERT INTO books VALUES (?,?,?)\",(book['title'],book['author'],book['year']))\n",
    "conn.commit()\n",
    "conn.close()"
   ]
  },
  {
   "cell_type": "markdown",
   "id": "a7e40bb1",
   "metadata": {},
   "source": [
    "## Ques 6"
   ]
  },
  {
   "cell_type": "code",
   "execution_count": null,
   "id": "e58f3246",
   "metadata": {},
   "outputs": [],
   "source": [
    "import sqlite3\n",
    "conn = sqlite3.connect('books.db')\n",
    "cursor = conn.cursor()\n",
    "output = cursor.execute(\"SELECT title FROM books ORDER BY title ASC\")\n",
    "for ele in output:\n",
    "    print(ele[0])\n",
    "conn.commit()\n",
    "conn.close()"
   ]
  },
  {
   "cell_type": "markdown",
   "id": "60fa489d",
   "metadata": {},
   "source": [
    "## Ques 7"
   ]
  },
  {
   "cell_type": "code",
   "execution_count": null,
   "id": "c3700207",
   "metadata": {},
   "outputs": [],
   "source": [
    "import sqlite3\n",
    "conn = sqlite3.connect('books.db')\n",
    "cursor = conn.cursor()\n",
    "ouput = cursor.execute(\"SELECT * FROM books ORDER BY year\")\n",
    "for record in ouput:\n",
    "    print(record)"
   ]
  },
  {
   "cell_type": "markdown",
   "id": "f40c7db2",
   "metadata": {},
   "source": [
    "## Ques 8"
   ]
  },
  {
   "cell_type": "code",
   "execution_count": null,
   "id": "ef1c26eb",
   "metadata": {},
   "outputs": [],
   "source": [
    "import sqlalchemy\n",
    "conn = sqlalchemy.create_engine('sqlite:///books.db')\n",
    "conn"
   ]
  },
  {
   "cell_type": "markdown",
   "id": "8cce6632",
   "metadata": {},
   "source": [
    "## Ques 9"
   ]
  },
  {
   "cell_type": "code",
   "execution_count": null,
   "id": "8849392b",
   "metadata": {},
   "outputs": [],
   "source": [
    "! python -m pip install redis"
   ]
  },
  {
   "cell_type": "code",
   "execution_count": null,
   "id": "1958e0e1",
   "metadata": {},
   "outputs": [],
   "source": [
    "import redis\n",
    "conn = redis.Redis()\n",
    "conn.hset('test',{\n",
    "    'count':1,\n",
    "    'name':'Fester Bestertester'\n",
    "})\n",
    "conn.hgetall('test')"
   ]
  },
  {
   "cell_type": "markdown",
   "id": "6bfa340f",
   "metadata": {},
   "source": [
    "## Ques 10"
   ]
  },
  {
   "cell_type": "code",
   "execution_count": null,
   "id": "cd7726ce",
   "metadata": {},
   "outputs": [],
   "source": [
    "conn.hincrby('test', 'count', 1)\n",
    "conn.hget('test', 'count')"
   ]
  }
 ],
 "metadata": {
  "kernelspec": {
   "display_name": "Python 3 (ipykernel)",
   "language": "python",
   "name": "python3"
  },
  "language_info": {
   "codemirror_mode": {
    "name": "ipython",
    "version": 3
   },
   "file_extension": ".py",
   "mimetype": "text/x-python",
   "name": "python",
   "nbconvert_exporter": "python",
   "pygments_lexer": "ipython3",
   "version": "3.10.9"
  }
 },
 "nbformat": 4,
 "nbformat_minor": 5
}
