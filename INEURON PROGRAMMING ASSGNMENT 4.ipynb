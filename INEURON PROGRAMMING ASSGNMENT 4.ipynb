{
 "cells": [
  {
   "cell_type": "markdown",
   "metadata": {},
   "source": [
    "# ques 1"
   ]
  },
  {
   "cell_type": "code",
   "execution_count": 34,
   "metadata": {},
   "outputs": [
    {
     "name": "stdout",
     "output_type": "stream",
     "text": [
      "4\n",
      "fact of number is:24\n"
     ]
    }
   ],
   "source": [
    "import math\n",
    "n = int(input())\n",
    "fact = 1\n",
    "for i in range(1,n+1):\n",
    "    fact = fact*i\n",
    "\n",
    "print(\"fact of number is:\", end = \"\")    \n",
    "print(fact)"
   ]
  },
  {
   "cell_type": "code",
   "execution_count": 33,
   "metadata": {},
   "outputs": [
    {
     "name": "stdout",
     "output_type": "stream",
     "text": [
      "24\n"
     ]
    }
   ],
   "source": [
    "print(math.factorial(4))"
   ]
  },
  {
   "cell_type": "markdown",
   "metadata": {},
   "source": [
    "# ques 2"
   ]
  },
  {
   "cell_type": "code",
   "execution_count": 1,
   "metadata": {},
   "outputs": [
    {
     "name": "stdout",
     "output_type": "stream",
     "text": [
      "enter any number:19\n",
      "19 x 1 == 19\n",
      "19 x 2 == 38\n",
      "19 x 3 == 57\n",
      "19 x 4 == 76\n",
      "19 x 5 == 95\n",
      "19 x 6 == 114\n",
      "19 x 7 == 133\n",
      "19 x 8 == 152\n",
      "19 x 9 == 171\n",
      "19 x 10 == 190\n"
     ]
    }
   ],
   "source": [
    "n = int(input(\"enter any number:\"))\n",
    "for i in range(1, 11):\n",
    "    print(n, \"x\", i, \"==\", n*i)"
   ]
  },
  {
   "cell_type": "markdown",
   "metadata": {},
   "source": [
    "# ques 3"
   ]
  },
  {
   "cell_type": "code",
   "execution_count": 10,
   "metadata": {},
   "outputs": [],
   "source": [
    "def genfib(n):\n",
    "    a = 3\n",
    "    b = 3\n",
    "    for i in range(n):\n",
    "        yield a\n",
    "        a,b = b, a+b"
   ]
  },
  {
   "cell_type": "code",
   "execution_count": 11,
   "metadata": {},
   "outputs": [
    {
     "data": {
      "text/plain": [
       "<generator object genfib at 0x7fc5e8b69c80>"
      ]
     },
     "execution_count": 11,
     "metadata": {},
     "output_type": "execute_result"
    }
   ],
   "source": [
    "genfib(20)"
   ]
  },
  {
   "cell_type": "code",
   "execution_count": 12,
   "metadata": {},
   "outputs": [
    {
     "name": "stdout",
     "output_type": "stream",
     "text": [
      "3\n",
      "3\n",
      "6\n",
      "9\n",
      "15\n",
      "24\n",
      "39\n",
      "63\n",
      "102\n",
      "165\n"
     ]
    }
   ],
   "source": [
    "for i in genfib(10):\n",
    "    print(i)"
   ]
  },
  {
   "cell_type": "code",
   "execution_count": 3,
   "metadata": {},
   "outputs": [
    {
     "name": "stdout",
     "output_type": "stream",
     "text": [
      "enter any number: 6\n",
      "sum is: 21\n"
     ]
    }
   ],
   "source": [
    "number = int(input(\"enter any number: \"))\n",
    "sum = 0\n",
    "if number<0:\n",
    "    print(\"enter whole number\")\n",
    "else:\n",
    "    while number>0:\n",
    "        sum += number\n",
    "        number = number - 1\n",
    "    print(\"sum is:\",sum)"
   ]
  },
  {
   "cell_type": "markdown",
   "metadata": {},
   "source": [
    "# QUES 4"
   ]
  },
  {
   "cell_type": "code",
   "execution_count": 9,
   "metadata": {},
   "outputs": [
    {
     "name": "stdout",
     "output_type": "stream",
     "text": [
      "enter a number: 153\n",
      "armstorng number\n"
     ]
    }
   ],
   "source": [
    "num = int(input(\"enter a number: \"))\n",
    "\n",
    "sum = 0\n",
    "\n",
    "temp = num\n",
    "\n",
    "while temp>0:\n",
    "    digit = temp%10\n",
    "    sum += digit ** 3\n",
    "    temp //= 10\n",
    "    \n",
    "if num == sum:\n",
    "    print(\"armstorng number\")\n",
    "else:\n",
    "    print(\"enter another number\")"
   ]
  },
  {
   "cell_type": "markdown",
   "metadata": {},
   "source": [
    "# ques 5"
   ]
  },
  {
   "cell_type": "code",
   "execution_count": 13,
   "metadata": {},
   "outputs": [
    {
     "name": "stdout",
     "output_type": "stream",
     "text": [
      "armstorng number 153\n",
      "armstorng number 370\n",
      "armstorng number 371\n",
      "armstorng number 407\n"
     ]
    }
   ],
   "source": [
    "lower = 100\n",
    "upper = 2000\n",
    "for num in range(lower, upper+1):\n",
    "    sum = 0\n",
    "\n",
    "    temp = num\n",
    "\n",
    "    while temp>0:\n",
    "        digit = temp%10\n",
    "        sum += digit ** 3\n",
    "        temp //= 10\n",
    "    \n",
    "    if num == sum:\n",
    "        print(\"armstorng number\",num)"
   ]
  },
  {
   "cell_type": "markdown",
   "metadata": {},
   "source": [
    "# ques 6"
   ]
  },
  {
   "cell_type": "code",
   "execution_count": 22,
   "metadata": {},
   "outputs": [
    {
     "name": "stdout",
     "output_type": "stream",
     "text": [
      "Enter a num: 5\n",
      "sum is 15\n"
     ]
    }
   ],
   "source": [
    "num = int(input(\"Enter a num: \"))\n",
    "sum = 0\n",
    "if num<=0:\n",
    "    print(\"Enter a positive number \")\n",
    "else:\n",
    "    while num>0:\n",
    "        sum += num\n",
    "        num -= 1\n",
    "        \n",
    "    print(\"sum is\", sum)"
   ]
  },
  {
   "cell_type": "code",
   "execution_count": null,
   "metadata": {},
   "outputs": [],
   "source": []
  }
 ],
 "metadata": {
  "kernelspec": {
   "display_name": "Python 3",
   "language": "python",
   "name": "python3"
  },
  "language_info": {
   "codemirror_mode": {
    "name": "ipython",
    "version": 3
   },
   "file_extension": ".py",
   "mimetype": "text/x-python",
   "name": "python",
   "nbconvert_exporter": "python",
   "pygments_lexer": "ipython3",
   "version": "3.8.5"
  }
 },
 "nbformat": 4,
 "nbformat_minor": 4
}
