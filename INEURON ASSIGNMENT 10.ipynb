{
 "cells": [
  {
   "cell_type": "markdown",
   "id": "8baf7367",
   "metadata": {},
   "source": [
    "## Ques 1"
   ]
  },
  {
   "cell_type": "markdown",
   "id": "89c20b6a",
   "metadata": {},
   "source": [
    "shutil.copy() is used to copy the contents of one file/folder to another file/folder.\n",
    "\n",
    "\n",
    "shutil.copytree() function is used to copy the entire contents of a folder to other folder"
   ]
  },
  {
   "cell_type": "markdown",
   "id": "fe105ad8",
   "metadata": {},
   "source": [
    "## Ques 2"
   ]
  },
  {
   "cell_type": "markdown",
   "id": "f070e62e",
   "metadata": {},
   "source": [
    "os.rename() function is used to rename files or directories."
   ]
  },
  {
   "cell_type": "markdown",
   "id": "d7619e75",
   "metadata": {},
   "source": [
    "## Ques 3"
   ]
  },
  {
   "cell_type": "markdown",
   "id": "017b125b",
   "metadata": {},
   "source": [
    "Shutil module provides a funciton called as shutil.rmtree() which deletes a directory and all its contents. The other functions are os.remove() -> removes a file, os.rmdir() removes a empty directory. The problem with these functions is once a file is deleted, it will be lost permanently.\n",
    "\n",
    "Where as send2trash module provides a function called send2trash.send2trash() to delete a file/directory. these methods moves the files/directories to trash folder instead of permanently deleting them. If a file/folder is deleted accidentally it can be still recovered from trash folder"
   ]
  },
  {
   "cell_type": "markdown",
   "id": "11ec32e8",
   "metadata": {},
   "source": [
    "## Ques 4"
   ]
  },
  {
   "cell_type": "markdown",
   "id": "424c7432",
   "metadata": {},
   "source": [
    " ZipFile Module provides a method called as zipfile.ZipFile() to read and write to zipFiles. \n",
    " zipfile.ZipFile('filename', mode = 'r')"
   ]
  },
  {
   "cell_type": "markdown",
   "id": "f5bbbb37",
   "metadata": {},
   "source": [
    "## Ques 5"
   ]
  },
  {
   "cell_type": "code",
   "execution_count": null,
   "id": "e1155af1",
   "metadata": {},
   "outputs": [],
   "source": [
    "import os\n",
    "import shutil\n",
    "\n",
    "def search_and_copy(source,destination,extensions):\n",
    "    source = os.path.abspath(source)\n",
    "    destination = os.path.abspath(destination)\n",
    "    for foldername, subfolder, filenames in os.walk(source):\n",
    "        print(f'Folder Name ➞ {foldername}',end='\\n\\n')\n",
    "        print(f'Sub Folders ➞ {subfolder}',end='\\n\\n')\n",
    "        print(f'Files ➞ {filenames}',end='\\n\\n')\n",
    "        for filename in filenames:\n",
    "            fileName,extension = os.path.splitext(filename)\n",
    "            if extension in extensions:\n",
    "                targetFile = foldername+os.path.sep+fileName+extension\n",
    "                shutil.copy(targetFile, destination)\n",
    "        print(f'Files copied successfully from {source} to {destination}')\n",
    "    \n",
    "extensions = ['.pdf','.jpg','.ipynb']\n",
    "source = 'Dummy Source'\n",
    "destination = 'Dummy Destination'\n",
    "search_and_copy(source, destination, extensions)\n"
   ]
  },
  {
   "cell_type": "code",
   "execution_count": null,
   "id": "d30cc439",
   "metadata": {},
   "outputs": [],
   "source": []
  }
 ],
 "metadata": {
  "kernelspec": {
   "display_name": "Python 3 (ipykernel)",
   "language": "python",
   "name": "python3"
  },
  "language_info": {
   "codemirror_mode": {
    "name": "ipython",
    "version": 3
   },
   "file_extension": ".py",
   "mimetype": "text/x-python",
   "name": "python",
   "nbconvert_exporter": "python",
   "pygments_lexer": "ipython3",
   "version": "3.10.9"
  }
 },
 "nbformat": 4,
 "nbformat_minor": 5
}
