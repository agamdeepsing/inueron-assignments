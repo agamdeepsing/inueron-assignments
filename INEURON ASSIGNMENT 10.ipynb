{
 "cells": [
  {
   "cell_type": "markdown",
   "id": "61ddfe1d",
   "metadata": {},
   "source": [
    "## Ques 1"
   ]
  },
  {
   "cell_type": "markdown",
   "id": "3c34dfaf",
   "metadata": {},
   "source": [
    "shutil.copy() is used to copy the contents of one file/folder to another file/folder.\n",
    "\n",
    "\n",
    "shutil.copytree() function is used to copy the entire contents of a folder to other folder"
   ]
  },
  {
   "cell_type": "markdown",
   "id": "9ed42e3e",
   "metadata": {},
   "source": [
    "## Ques 2"
   ]
  },
  {
   "cell_type": "markdown",
   "id": "31176f02",
   "metadata": {},
   "source": [
    "os.rename() function is used to rename files or directories."
   ]
  },
  {
   "cell_type": "markdown",
   "id": "0ed63615",
   "metadata": {},
   "source": [
    "## Ques 3"
   ]
  },
  {
   "cell_type": "markdown",
   "id": "b322b8b1",
   "metadata": {},
   "source": [
    "Shutil module provides a funciton called as shutil.rmtree() which deletes a directory and all its contents. The other functions are os.remove() -> removes a file, os.rmdir() removes a empty directory. The problem with these functions is once a file is deleted, it will be lost permanently.\n",
    "\n",
    "Where as send2trash module provides a function called send2trash.send2trash() to delete a file/directory. these methods moves the files/directories to trash folder instead of permanently deleting them. If a file/folder is deleted accidentally it can be still recovered from trash folder"
   ]
  },
  {
   "cell_type": "markdown",
   "id": "c25292fe",
   "metadata": {},
   "source": [
    "## Ques 4"
   ]
  },
  {
   "cell_type": "markdown",
   "id": "d9de453e",
   "metadata": {},
   "source": [
    " ZipFile Module provides a method called as zipfile.ZipFile() to read and write to zipFiles. \n",
    " zipfile.ZipFile('filename', mode = 'r')"
   ]
  },
  {
   "cell_type": "markdown",
   "id": "d816c7b9",
   "metadata": {},
   "source": [
    "##"
   ]
  }
 ],
 "metadata": {
  "kernelspec": {
   "display_name": "Python 3 (ipykernel)",
   "language": "python",
   "name": "python3"
  },
  "language_info": {
   "codemirror_mode": {
    "name": "ipython",
    "version": 3
   },
   "file_extension": ".py",
   "mimetype": "text/x-python",
   "name": "python",
   "nbconvert_exporter": "python",
   "pygments_lexer": "ipython3",
   "version": "3.10.9"
  }
 },
 "nbformat": 4,
 "nbformat_minor": 5
}
