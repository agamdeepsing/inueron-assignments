{
 "cells": [
  {
   "cell_type": "markdown",
   "id": "23c7071f",
   "metadata": {},
   "source": [
    "## Ques 1"
   ]
  },
  {
   "cell_type": "markdown",
   "id": "b5ba305b",
   "metadata": {},
   "source": [
    "csv file are plain text files and does not contain formatting or edited. it is also called flat files.\n",
    "\n",
    "\n",
    "excel file can do operations on the data using formulas.\n",
    "\n",
    "it is better for storing and analysing complex data an"
   ]
  },
  {
   "cell_type": "markdown",
   "id": "214a475c",
   "metadata": {},
   "source": [
    "## Ques 2"
   ]
  },
  {
   "cell_type": "markdown",
   "id": "3a9d8f7f",
   "metadata": {},
   "source": [
    "import csv\n",
    "with open('text.csv','r') as file:\n",
    "    csv_file = csv.reader(file,delimiter=',')\n",
    "    for ele in csv_file:\n",
    "        print(ele)"
   ]
  },
  {
   "cell_type": "markdown",
   "id": "9ef27e18",
   "metadata": {},
   "source": [
    "## Ques 3"
   ]
  },
  {
   "cell_type": "markdown",
   "id": "5938906f",
   "metadata": {},
   "source": [
    "File objects for reader objects as read mode('r') and writer objects as write mode ('w')"
   ]
  },
  {
   "cell_type": "markdown",
   "id": "ffb3e384",
   "metadata": {},
   "source": [
    "## Ques 4"
   ]
  },
  {
   "cell_type": "markdown",
   "id": "64c88193",
   "metadata": {},
   "source": [
    "import csv\n",
    "fields = ['Name', 'Branch', 'Year', 'CGPA'] \n",
    "rows = [ \n",
    "            ['Agam', 'Mathematics', '3', '7.676'],  \n",
    "            ['Anmol', 'BMS', '3', '7.45'], \n",
    "            ['Guneet', 'BBE', '3', '8.7']\n",
    "       ] \n",
    "with open(\"university_records.csv\", 'w') as csvfile: \n",
    "    csvwriter = csv.writer(csvfile)\n",
    "    csvwriter.writerow(fields)\n",
    "    csvwriter.writerows(rows) "
   ]
  },
  {
   "cell_type": "markdown",
   "id": "372dc81c",
   "metadata": {},
   "source": [
    "## Ques 5"
   ]
  },
  {
   "cell_type": "markdown",
   "id": "2dae2dfd",
   "metadata": {},
   "source": [
    "First Name, Last Name, Age\n",
    "\n",
    "Here ',' is Delimiter.Similarly Line Terminator comes at end of line(default) it is newline and can be changed accourding to requirement."
   ]
  },
  {
   "cell_type": "markdown",
   "id": "6213decc",
   "metadata": {},
   "source": [
    "## Ques 6"
   ]
  },
  {
   "cell_type": "code",
   "execution_count": 4,
   "id": "26b274b0",
   "metadata": {},
   "outputs": [
    {
     "name": "stdout",
     "output_type": "stream",
     "text": [
      "{\n",
      "    \"Name\": \"Agamdeep Singh\",\n",
      "    \"Stream\": \"Mathematics\",\n",
      "    \"Qualification\": \"Bachelor of Science\"\n",
      "}\n",
      "Type of details_json is <class 'str'>\n",
      "{'Name': 'Agamdeep Singh', 'Stream': 'Mathematics', 'Qualification': 'Bachelor of Science'}\n",
      "Type of my_details is <class 'dict'>\n"
     ]
    }
   ],
   "source": [
    "import json\n",
    "details_json ='''{\n",
    "    \"Name\": \"Agamdeep Singh\",\n",
    "    \"Stream\": \"Mathematics\",\n",
    "    \"Qualification\": \"Bachelor of Science\"\n",
    "}'''\n",
    "print(details_json)\n",
    "print(f'Type of details_json is {type(details_json)}')\n",
    "my_details = json.loads(details_json)\n",
    "print(my_details)\n",
    "print(f'Type of my_details is {type(my_details)}')"
   ]
  },
  {
   "cell_type": "markdown",
   "id": "e4f04b09",
   "metadata": {},
   "source": [
    "## Ques 7 "
   ]
  },
  {
   "cell_type": "markdown",
   "id": "46995eef",
   "metadata": {},
   "source": [
    "dump() method takes a Python data structure and returns a string of JSON data"
   ]
  },
  {
   "cell_type": "code",
   "execution_count": null,
   "id": "21eead57",
   "metadata": {},
   "outputs": [],
   "source": []
  }
 ],
 "metadata": {
  "kernelspec": {
   "display_name": "Python 3 (ipykernel)",
   "language": "python",
   "name": "python3"
  },
  "language_info": {
   "codemirror_mode": {
    "name": "ipython",
    "version": 3
   },
   "file_extension": ".py",
   "mimetype": "text/x-python",
   "name": "python",
   "nbconvert_exporter": "python",
   "pygments_lexer": "ipython3",
   "version": "3.10.9"
  }
 },
 "nbformat": 4,
 "nbformat_minor": 5
}
